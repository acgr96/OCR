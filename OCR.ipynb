{
 "cells": [
  {
   "attachments": {},
   "cell_type": "markdown",
   "metadata": {},
   "source": [
    "Import Required Libraries  \n",
    "&nbsp;&nbsp;&nbsp;&nbsp;- pillow library (PIL) for image manipulation  \n",
    "&nbsp;&nbsp;&nbsp;&nbsp;- Ppytesseract library for linking to Tesseract OCR library (must be installed separately)  \n",
    "&nbsp;&nbsp;&nbsp;&nbsp;- tkinter for interactive window to choose image file  \n",
    "&nbsp;&nbsp;&nbsp;&nbsp;- os for file manipulation  "
   ]
  },
  {
   "cell_type": "code",
   "execution_count": 24,
   "metadata": {},
   "outputs": [],
   "source": [
    "from PIL import Image\n",
    "import pytesseract\n",
    "import tkinter.filedialog\n",
    "import os as os"
   ]
  },
  {
   "attachments": {},
   "cell_type": "markdown",
   "metadata": {},
   "source": [
    "Define the Path Location of the Tesseract Install"
   ]
  },
  {
   "cell_type": "code",
   "execution_count": 25,
   "metadata": {},
   "outputs": [],
   "source": [
    "path_to_tesseract = r\"C:\\Program Files\\Tesseract-OCR\\tesseract.exe\"\n",
    "pytesseract.pytesseract.tesseract_cmd = path_to_tesseract"
   ]
  },
  {
   "attachments": {},
   "cell_type": "markdown",
   "metadata": {},
   "source": [
    "Open file selection window with tkinter and choose image file  \n",
    "&nbsp;&nbsp;&nbsp;&nbsp;*Alternatively, you may define the path location of the image file to read via line below:*  \n",
    "&nbsp;&nbsp;&nbsp;&nbsp;*image_path = r\"FILENAME.EXT\"*"
   ]
  },
  {
   "cell_type": "code",
   "execution_count": 26,
   "metadata": {},
   "outputs": [],
   "source": [
    "image_path = tkinter.filedialog.askopenfilename()"
   ]
  },
  {
   "attachments": {},
   "cell_type": "markdown",
   "metadata": {},
   "source": [
    "Open and preview image with pillow"
   ]
  },
  {
   "cell_type": "code",
   "execution_count": null,
   "metadata": {},
   "outputs": [],
   "source": [
    "img = Image.open(image_path)\n",
    "img.show()"
   ]
  },
  {
   "attachments": {},
   "cell_type": "markdown",
   "metadata": {},
   "source": [
    "Convert Image to Black and White"
   ]
  },
  {
   "cell_type": "code",
   "execution_count": null,
   "metadata": {},
   "outputs": [],
   "source": [
    "img_bw= img.convert('L')\n",
    "img_bw.show()"
   ]
  },
  {
   "attachments": {},
   "cell_type": "markdown",
   "metadata": {},
   "source": [
    "Apply image enhancements   \n",
    "&nbsp;&nbsp;&nbsp;&nbsp; *.Brightness* - Increasing brightness This will obscure contour lines and leave numerals behind  \n",
    "&nbsp;&nbsp;&nbsp;&nbsp; *.Contrast* - Some numbers have color bands close enough to contour lines that they are reduced by brightness increase. Cutting contrast will mitigate this\n"
   ]
  },
  {
   "cell_type": "code",
   "execution_count": null,
   "metadata": {},
   "outputs": [],
   "source": [
    "from PIL import ImageEnhance\n",
    "img_bwb = ImageEnhance.Brightness(img_bw)\n",
    "img_bwbe = img_bwb.enhance(2.5)\n",
    "img_bwc = ImageEnhance.Contrast(img_bwbe)\n",
    "img_bwcb = img_bwc.enhance(1)\n",
    "img_bwcb.show()"
   ]
  },
  {
   "attachments": {},
   "cell_type": "markdown",
   "metadata": {},
   "source": [
    "Employ Tesseract image_to_string function to extract text  \n",
    "&nbsp;&nbsp;&nbsp;&nbsp; - *For pytesseract image_to_string, config = '-- psm x' denotes page segmentation mode settings as follows:*  \n",
    "&nbsp;&nbsp;&nbsp;&nbsp;&nbsp;&nbsp;&nbsp;&nbsp;0    Orientation and script detection (OSD) only.  \n",
    "&nbsp;&nbsp;&nbsp;&nbsp;&nbsp;&nbsp;&nbsp;&nbsp;1    Automatic page segmentation with OSD.  \n",
    "&nbsp;&nbsp;&nbsp;&nbsp;&nbsp;&nbsp;&nbsp;&nbsp;2    Automatic page segmentation, but no OSD, or OCR.  \n",
    "&nbsp;&nbsp;&nbsp;&nbsp;&nbsp;&nbsp;&nbsp;&nbsp;3    Fully automatic page segmentation, but no OSD. (Default)  \n",
    "&nbsp;&nbsp;&nbsp;&nbsp;&nbsp;&nbsp;&nbsp;&nbsp;4    Assume a single column of text of variable sizes.  \n",
    "&nbsp;&nbsp;&nbsp;&nbsp;&nbsp;&nbsp;&nbsp;&nbsp;5    Assume a single uniform block of vertically aligned text.  \n",
    "&nbsp;&nbsp;&nbsp;&nbsp;&nbsp;&nbsp;&nbsp;&nbsp;6    Assume a single uniform block of text.  \n",
    "&nbsp;&nbsp;&nbsp;&nbsp;&nbsp;&nbsp;&nbsp;&nbsp;7    Treat the image as a single text line.  \n",
    "&nbsp;&nbsp;&nbsp;&nbsp;&nbsp;&nbsp;&nbsp;&nbsp;8    Treat the image as a single word.  \n",
    "&nbsp;&nbsp;&nbsp;&nbsp;&nbsp;&nbsp;&nbsp;&nbsp;9    Treat the image as a single word in a circle.  \n",
    "&nbsp;&nbsp;&nbsp;&nbsp;&nbsp;&nbsp;&nbsp;&nbsp;10    Treat the image as a single character.  \n",
    "&nbsp;&nbsp;&nbsp;&nbsp;&nbsp;&nbsp;&nbsp;&nbsp;11    Sparse text. Find as much text as possible in no particular order.  \n",
    "&nbsp;&nbsp;&nbsp;&nbsp;&nbsp;&nbsp;&nbsp;&nbsp;12    Sparse text with OSD.  \n",
    "&nbsp;&nbsp;&nbsp;&nbsp;&nbsp;&nbsp;&nbsp;&nbsp;13    Raw line. Treat the image as a single text line, bypassing hacks that are Tesseract-specific."
   ]
  },
  {
   "cell_type": "code",
   "execution_count": null,
   "metadata": {},
   "outputs": [],
   "source": [
    "text = pytesseract.image_to_string(img_bwcb, config = '-c tessedit_char_whitelist=123456789 --psm 3')"
   ]
  },
  {
   "attachments": {},
   "cell_type": "markdown",
   "metadata": {},
   "source": [
    "Preview extracted text"
   ]
  },
  {
   "cell_type": "code",
   "execution_count": null,
   "metadata": {},
   "outputs": [],
   "source": [
    "print(text[:-1])"
   ]
  },
  {
   "attachments": {},
   "cell_type": "markdown",
   "metadata": {},
   "source": [
    "Write extracted text to new txt file with image filename"
   ]
  },
  {
   "cell_type": "code",
   "execution_count": null,
   "metadata": {},
   "outputs": [],
   "source": [
    "file_name = os.path.basename(image_path)\n",
    "file_name_M = file_name.replace(\".\",\"\")\n",
    "txt_name = (\"{file}_Output.txt\").format(file = file_name_M)\n",
    "f = open(txt_name, \"a\")\n",
    "f.write(text)\n",
    "f.close()"
   ]
  }
 ],
 "metadata": {
  "kernelspec": {
   "display_name": "OCR",
   "language": "python",
   "name": "python3"
  },
  "language_info": {
   "codemirror_mode": {
    "name": "ipython",
    "version": 3
   },
   "file_extension": ".py",
   "mimetype": "text/x-python",
   "name": "python",
   "nbconvert_exporter": "python",
   "pygments_lexer": "ipython3",
   "version": "3.11.0"
  },
  "orig_nbformat": 4
 },
 "nbformat": 4,
 "nbformat_minor": 2
}
